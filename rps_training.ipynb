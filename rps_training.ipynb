{
 "cells": [
  {
   "cell_type": "code",
   "execution_count": 28,
   "id": "5b1292de",
   "metadata": {},
   "outputs": [],
   "source": [
    "import json\n",
    "import pandas as pd"
   ]
  },
  {
   "cell_type": "code",
   "execution_count": 29,
   "id": "60ce2fed",
   "metadata": {},
   "outputs": [
    {
     "data": {
      "text/plain": [
       "(100, 3)"
      ]
     },
     "execution_count": 29,
     "metadata": {},
     "output_type": "execute_result"
    }
   ],
   "source": [
    "df_0 = pd.read_json(\"training_data_0.json\") # player2 = quincy\n",
    "df_1 = pd.read_json(\"training_data_1.json\") # player2 = abbey\n",
    "df_2 = pd.read_json(\"training_data_2.json\") # player2 = kris\n",
    "df_3 = pd.read_json(\"training_data_3.json\") # player2 = mrugesh\n",
    "df_0.shape"
   ]
  },
  {
   "cell_type": "code",
   "execution_count": 30,
   "id": "30031a9e",
   "metadata": {},
   "outputs": [],
   "source": [
    "# concatenate the data from all 4 players\n",
    "df = pd.concat([df_0, df_1, df_2, df_3], axis=0).reset_index(drop=True)"
   ]
  },
  {
   "cell_type": "code",
   "execution_count": 31,
   "id": "17977acb",
   "metadata": {},
   "outputs": [
    {
     "data": {
      "text/html": [
       "<div>\n",
       "<style scoped>\n",
       "    .dataframe tbody tr th:only-of-type {\n",
       "        vertical-align: middle;\n",
       "    }\n",
       "\n",
       "    .dataframe tbody tr th {\n",
       "        vertical-align: top;\n",
       "    }\n",
       "\n",
       "    .dataframe thead th {\n",
       "        text-align: right;\n",
       "    }\n",
       "</style>\n",
       "<table border=\"1\" class=\"dataframe\">\n",
       "  <thead>\n",
       "    <tr style=\"text-align: right;\">\n",
       "      <th></th>\n",
       "      <th>player1_moves</th>\n",
       "      <th>player2_moves</th>\n",
       "      <th>player2</th>\n",
       "    </tr>\n",
       "  </thead>\n",
       "  <tbody>\n",
       "    <tr>\n",
       "      <th>0</th>\n",
       "      <td>[2, 1, 2, 2, 0, 1, 1, 2, 2, 0]</td>\n",
       "      <td>[0, 1, 1, 2, 0, 0, 1, 1, 2, 0]</td>\n",
       "      <td>0</td>\n",
       "    </tr>\n",
       "    <tr>\n",
       "      <th>1</th>\n",
       "      <td>[1, 1, 2, 2, 0, 1, 1, 2, 2, 0]</td>\n",
       "      <td>[0, 1, 1, 2, 0, 0, 1, 1, 2, 0]</td>\n",
       "      <td>0</td>\n",
       "    </tr>\n",
       "    <tr>\n",
       "      <th>2</th>\n",
       "      <td>[1, 1, 2, 2, 0, 1, 1, 2, 2, 0]</td>\n",
       "      <td>[0, 1, 1, 2, 0, 0, 1, 1, 2, 0]</td>\n",
       "      <td>0</td>\n",
       "    </tr>\n",
       "    <tr>\n",
       "      <th>3</th>\n",
       "      <td>[1, 1, 2, 2, 0, 1, 1, 2, 2, 0]</td>\n",
       "      <td>[0, 1, 1, 2, 0, 0, 1, 1, 2, 0]</td>\n",
       "      <td>0</td>\n",
       "    </tr>\n",
       "    <tr>\n",
       "      <th>4</th>\n",
       "      <td>[1, 1, 2, 2, 0, 1, 1, 2, 2, 0]</td>\n",
       "      <td>[0, 1, 1, 2, 0, 0, 1, 1, 2, 0]</td>\n",
       "      <td>0</td>\n",
       "    </tr>\n",
       "    <tr>\n",
       "      <th>...</th>\n",
       "      <td>...</td>\n",
       "      <td>...</td>\n",
       "      <td>...</td>\n",
       "    </tr>\n",
       "    <tr>\n",
       "      <th>395</th>\n",
       "      <td>[1, 1, 0, 0, 0, 0, 0, 0, 0, 2]</td>\n",
       "      <td>[0, 2, 2, 2, 2, 2, 2, 2, 1, 1]</td>\n",
       "      <td>3</td>\n",
       "    </tr>\n",
       "    <tr>\n",
       "      <th>396</th>\n",
       "      <td>[2, 2, 2, 2, 2, 1, 1, 1, 1, 1]</td>\n",
       "      <td>[1, 1, 1, 1, 0, 0, 0, 0, 0, 0]</td>\n",
       "      <td>3</td>\n",
       "    </tr>\n",
       "    <tr>\n",
       "      <th>397</th>\n",
       "      <td>[1, 0, 0, 0, 0, 0, 0, 0, 2, 2]</td>\n",
       "      <td>[2, 2, 2, 2, 2, 2, 2, 1, 1, 1]</td>\n",
       "      <td>3</td>\n",
       "    </tr>\n",
       "    <tr>\n",
       "      <th>398</th>\n",
       "      <td>[2, 2, 2, 2, 1, 1, 1, 1, 1, 1]</td>\n",
       "      <td>[1, 1, 1, 0, 0, 0, 0, 0, 0, 2]</td>\n",
       "      <td>3</td>\n",
       "    </tr>\n",
       "    <tr>\n",
       "      <th>399</th>\n",
       "      <td>[0, 0, 0, 0, 0, 0, 0, 2, 2, 2]</td>\n",
       "      <td>[2, 2, 2, 2, 2, 2, 1, 1, 1, 1]</td>\n",
       "      <td>3</td>\n",
       "    </tr>\n",
       "  </tbody>\n",
       "</table>\n",
       "<p>400 rows × 3 columns</p>\n",
       "</div>"
      ],
      "text/plain": [
       "                      player1_moves                   player2_moves  player2\n",
       "0    [2, 1, 2, 2, 0, 1, 1, 2, 2, 0]  [0, 1, 1, 2, 0, 0, 1, 1, 2, 0]        0\n",
       "1    [1, 1, 2, 2, 0, 1, 1, 2, 2, 0]  [0, 1, 1, 2, 0, 0, 1, 1, 2, 0]        0\n",
       "2    [1, 1, 2, 2, 0, 1, 1, 2, 2, 0]  [0, 1, 1, 2, 0, 0, 1, 1, 2, 0]        0\n",
       "3    [1, 1, 2, 2, 0, 1, 1, 2, 2, 0]  [0, 1, 1, 2, 0, 0, 1, 1, 2, 0]        0\n",
       "4    [1, 1, 2, 2, 0, 1, 1, 2, 2, 0]  [0, 1, 1, 2, 0, 0, 1, 1, 2, 0]        0\n",
       "..                              ...                             ...      ...\n",
       "395  [1, 1, 0, 0, 0, 0, 0, 0, 0, 2]  [0, 2, 2, 2, 2, 2, 2, 2, 1, 1]        3\n",
       "396  [2, 2, 2, 2, 2, 1, 1, 1, 1, 1]  [1, 1, 1, 1, 0, 0, 0, 0, 0, 0]        3\n",
       "397  [1, 0, 0, 0, 0, 0, 0, 0, 2, 2]  [2, 2, 2, 2, 2, 2, 2, 1, 1, 1]        3\n",
       "398  [2, 2, 2, 2, 1, 1, 1, 1, 1, 1]  [1, 1, 1, 0, 0, 0, 0, 0, 0, 2]        3\n",
       "399  [0, 0, 0, 0, 0, 0, 0, 2, 2, 2]  [2, 2, 2, 2, 2, 2, 1, 1, 1, 1]        3\n",
       "\n",
       "[400 rows x 3 columns]"
      ]
     },
     "execution_count": 31,
     "metadata": {},
     "output_type": "execute_result"
    }
   ],
   "source": [
    "df"
   ]
  },
  {
   "cell_type": "code",
   "execution_count": null,
   "id": "3be902e4",
   "metadata": {},
   "outputs": [],
   "source": []
  }
 ],
 "metadata": {
  "kernelspec": {
   "display_name": "Python 3 (ipykernel)",
   "language": "python",
   "name": "python3"
  },
  "language_info": {
   "codemirror_mode": {
    "name": "ipython",
    "version": 3
   },
   "file_extension": ".py",
   "mimetype": "text/x-python",
   "name": "python",
   "nbconvert_exporter": "python",
   "pygments_lexer": "ipython3",
   "version": "3.9.13"
  }
 },
 "nbformat": 4,
 "nbformat_minor": 5
}
