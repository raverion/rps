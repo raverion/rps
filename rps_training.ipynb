{
 "cells": [
  {
   "cell_type": "code",
   "execution_count": 341,
   "id": "c15ad9db",
   "metadata": {},
   "outputs": [],
   "source": [
    "import json\n",
    "import pandas as pd\n",
    "from sklearn.model_selection import train_test_split\n",
    "from sklearn.neural_network import MLPClassifier\n",
    "from sklearn.metrics import accuracy_score\n",
    "from joblib import dump, load"
   ]
  },
  {
   "cell_type": "code",
   "execution_count": 330,
   "id": "56f3927a",
   "metadata": {},
   "outputs": [],
   "source": [
    "df_0 = pd.read_json(\"training_data_0.json\",dtype={'player1_moves': str, 'player2_moves': str}) # player2 = quincy\n",
    "df_1 = pd.read_json(\"training_data_1.json\",dtype={'player1_moves': str, 'player2_moves': str}) # player2 = abbey\n",
    "df_2 = pd.read_json(\"training_data_2.json\",dtype={'player1_moves': str, 'player2_moves': str}) # player2 = kris\n",
    "df_3 = pd.read_json(\"training_data_3.json\",dtype={'player1_moves': str, 'player2_moves': str}) # player2 = mrugesh"
   ]
  },
  {
   "cell_type": "code",
   "execution_count": 331,
   "id": "f417c214",
   "metadata": {},
   "outputs": [],
   "source": [
    "# concatenate the data from all 4 players\n",
    "df = pd.concat([df_0, df_1, df_2, df_3], axis=0).reset_index(drop=True)"
   ]
  },
  {
   "cell_type": "code",
   "execution_count": 332,
   "id": "8441a42e",
   "metadata": {},
   "outputs": [
    {
     "name": "stdout",
     "output_type": "stream",
     "text": [
      "<class 'pandas.core.frame.DataFrame'>\n",
      "RangeIndex: 100000 entries, 0 to 99999\n",
      "Data columns (total 3 columns):\n",
      " #   Column         Non-Null Count   Dtype \n",
      "---  ------         --------------   ----- \n",
      " 0   player1_moves  100000 non-null  object\n",
      " 1   player2_moves  100000 non-null  object\n",
      " 2   player2        100000 non-null  int64 \n",
      "dtypes: int64(1), object(2)\n",
      "memory usage: 2.3+ MB\n"
     ]
    }
   ],
   "source": [
    "df.info()"
   ]
  },
  {
   "cell_type": "code",
   "execution_count": 333,
   "id": "c0ec1003",
   "metadata": {},
   "outputs": [
    {
     "data": {
      "text/html": [
       "<div>\n",
       "<style scoped>\n",
       "    .dataframe tbody tr th:only-of-type {\n",
       "        vertical-align: middle;\n",
       "    }\n",
       "\n",
       "    .dataframe tbody tr th {\n",
       "        vertical-align: top;\n",
       "    }\n",
       "\n",
       "    .dataframe thead th {\n",
       "        text-align: right;\n",
       "    }\n",
       "</style>\n",
       "<table border=\"1\" class=\"dataframe\">\n",
       "  <thead>\n",
       "    <tr style=\"text-align: right;\">\n",
       "      <th></th>\n",
       "      <th>player1_moves</th>\n",
       "      <th>player2_moves</th>\n",
       "      <th>player2</th>\n",
       "    </tr>\n",
       "  </thead>\n",
       "  <tbody>\n",
       "    <tr>\n",
       "      <th>0</th>\n",
       "      <td>21220112201122011220</td>\n",
       "      <td>01120011200112001120</td>\n",
       "      <td>0</td>\n",
       "    </tr>\n",
       "    <tr>\n",
       "      <th>1</th>\n",
       "      <td>11220112201122011220</td>\n",
       "      <td>01120011200112001120</td>\n",
       "      <td>0</td>\n",
       "    </tr>\n",
       "    <tr>\n",
       "      <th>2</th>\n",
       "      <td>11220112201122011220</td>\n",
       "      <td>01120011200112001120</td>\n",
       "      <td>0</td>\n",
       "    </tr>\n",
       "    <tr>\n",
       "      <th>3</th>\n",
       "      <td>11220112201122011220</td>\n",
       "      <td>01120011200112001120</td>\n",
       "      <td>0</td>\n",
       "    </tr>\n",
       "    <tr>\n",
       "      <th>4</th>\n",
       "      <td>11220112201122011220</td>\n",
       "      <td>01120011200112001120</td>\n",
       "      <td>0</td>\n",
       "    </tr>\n",
       "    <tr>\n",
       "      <th>...</th>\n",
       "      <td>...</td>\n",
       "      <td>...</td>\n",
       "      <td>...</td>\n",
       "    </tr>\n",
       "    <tr>\n",
       "      <th>99995</th>\n",
       "      <td>00000002222222111111</td>\n",
       "      <td>22222211111110000002</td>\n",
       "      <td>3</td>\n",
       "    </tr>\n",
       "    <tr>\n",
       "      <th>99996</th>\n",
       "      <td>00000002222222111111</td>\n",
       "      <td>22222211111110000002</td>\n",
       "      <td>3</td>\n",
       "    </tr>\n",
       "    <tr>\n",
       "      <th>99997</th>\n",
       "      <td>00000002222222111111</td>\n",
       "      <td>22222211111110000002</td>\n",
       "      <td>3</td>\n",
       "    </tr>\n",
       "    <tr>\n",
       "      <th>99998</th>\n",
       "      <td>00000002222222111111</td>\n",
       "      <td>22222211111110000002</td>\n",
       "      <td>3</td>\n",
       "    </tr>\n",
       "    <tr>\n",
       "      <th>99999</th>\n",
       "      <td>00000002222222111111</td>\n",
       "      <td>22222211111110000002</td>\n",
       "      <td>3</td>\n",
       "    </tr>\n",
       "  </tbody>\n",
       "</table>\n",
       "<p>100000 rows × 3 columns</p>\n",
       "</div>"
      ],
      "text/plain": [
       "              player1_moves         player2_moves  player2\n",
       "0      21220112201122011220  01120011200112001120        0\n",
       "1      11220112201122011220  01120011200112001120        0\n",
       "2      11220112201122011220  01120011200112001120        0\n",
       "3      11220112201122011220  01120011200112001120        0\n",
       "4      11220112201122011220  01120011200112001120        0\n",
       "...                     ...                   ...      ...\n",
       "99995  00000002222222111111  22222211111110000002        3\n",
       "99996  00000002222222111111  22222211111110000002        3\n",
       "99997  00000002222222111111  22222211111110000002        3\n",
       "99998  00000002222222111111  22222211111110000002        3\n",
       "99999  00000002222222111111  22222211111110000002        3\n",
       "\n",
       "[100000 rows x 3 columns]"
      ]
     },
     "execution_count": 333,
     "metadata": {},
     "output_type": "execute_result"
    }
   ],
   "source": [
    "df"
   ]
  },
  {
   "cell_type": "code",
   "execution_count": 334,
   "id": "62d2062e",
   "metadata": {},
   "outputs": [],
   "source": [
    "# split the dataframe into training and testing datasets\n",
    "X = df[['player1_moves','player2_moves']]\n",
    "y = df['player2']"
   ]
  },
  {
   "cell_type": "code",
   "execution_count": 335,
   "id": "18066134",
   "metadata": {},
   "outputs": [],
   "source": [
    "# Split the data into training and testing sets\n",
    "X_train, X_test, y_train, y_test = train_test_split(X, y, test_size=0.2, random_state=42)"
   ]
  },
  {
   "cell_type": "code",
   "execution_count": 336,
   "id": "37514c8c",
   "metadata": {},
   "outputs": [
    {
     "data": {
      "text/plain": [
       "MLPClassifier(hidden_layer_sizes=(26,), random_state=42)"
      ]
     },
     "execution_count": 336,
     "metadata": {},
     "output_type": "execute_result"
    }
   ],
   "source": [
    "# Define the neural network model\n",
    "# model = MLPClassifier(hidden_layer_sizes=(64,32), activation='relu', solver='adam', random_state=42) # 74.95% accurate\n",
    "# model = MLPClassifier(hidden_layer_sizes=(64,32), activation='tanh', solver='sgd', random_state=42) # 66.43% accurate\n",
    "# model = MLPClassifier(hidden_layer_sizes=(10,), activation='relu', solver='adam', random_state=42) # 75.02% accurate\n",
    "model = MLPClassifier(hidden_layer_sizes=(26,), activation='relu', solver='adam', random_state=42) # 75.215% accurate\n",
    "\n",
    "# Train the model\n",
    "model.fit(X_train, y_train)"
   ]
  },
  {
   "cell_type": "code",
   "execution_count": 342,
   "id": "bcb01e34",
   "metadata": {},
   "outputs": [
    {
     "data": {
      "text/plain": [
       "['model.joblib']"
      ]
     },
     "execution_count": 342,
     "metadata": {},
     "output_type": "execute_result"
    }
   ],
   "source": [
    "# Save the model to disk\n",
    "dump(model, 'model.joblib')"
   ]
  },
  {
   "cell_type": "code",
   "execution_count": 337,
   "id": "4787ad6a",
   "metadata": {},
   "outputs": [
    {
     "data": {
      "text/plain": [
       "0.75065"
      ]
     },
     "execution_count": 337,
     "metadata": {},
     "output_type": "execute_result"
    }
   ],
   "source": [
    "# Evaluate the model on the testing set using score() method\n",
    "model.score(X_test, y_test)"
   ]
  },
  {
   "cell_type": "code",
   "execution_count": 338,
   "id": "629b6c00",
   "metadata": {},
   "outputs": [
    {
     "data": {
      "text/html": [
       "<div>\n",
       "<style scoped>\n",
       "    .dataframe tbody tr th:only-of-type {\n",
       "        vertical-align: middle;\n",
       "    }\n",
       "\n",
       "    .dataframe tbody tr th {\n",
       "        vertical-align: top;\n",
       "    }\n",
       "\n",
       "    .dataframe thead th {\n",
       "        text-align: right;\n",
       "    }\n",
       "</style>\n",
       "<table border=\"1\" class=\"dataframe\">\n",
       "  <thead>\n",
       "    <tr style=\"text-align: right;\">\n",
       "      <th></th>\n",
       "      <th>player1_moves</th>\n",
       "      <th>player2_moves</th>\n",
       "    </tr>\n",
       "  </thead>\n",
       "  <tbody>\n",
       "    <tr>\n",
       "      <th>0</th>\n",
       "      <td>11220112201122011220</td>\n",
       "      <td>01120011200112001120</td>\n",
       "    </tr>\n",
       "  </tbody>\n",
       "</table>\n",
       "</div>"
      ],
      "text/plain": [
       "          player1_moves         player2_moves\n",
       "0  11220112201122011220  01120011200112001120"
      ]
     },
     "execution_count": 338,
     "metadata": {},
     "output_type": "execute_result"
    }
   ],
   "source": [
    "# Now to determine the identity of a player based on their moves:\n",
    "X_pred_data = {'player1_moves' : [\"11220112201122011220\"], 'player2_moves' : [\"01120011200112001120\"]}\n",
    "X_pred = pd.DataFrame(X_pred_data)\n",
    "X_pred"
   ]
  },
  {
   "cell_type": "code",
   "execution_count": 339,
   "id": "a7ec0969",
   "metadata": {},
   "outputs": [
    {
     "data": {
      "text/plain": [
       "0"
      ]
     },
     "execution_count": 339,
     "metadata": {},
     "output_type": "execute_result"
    }
   ],
   "source": [
    "y_pred = model.predict(X_pred)\n",
    "list(y_pred)[0]"
   ]
  },
  {
   "cell_type": "code",
   "execution_count": 340,
   "id": "c1b9e33a",
   "metadata": {},
   "outputs": [
    {
     "data": {
      "text/plain": [
       "2"
      ]
     },
     "execution_count": 340,
     "metadata": {},
     "output_type": "execute_result"
    }
   ],
   "source": [
    "X_pred['player1_moves']=\"10000002222222111111\"\n",
    "X_pred['player2_moves']=\"22222211111110000000\"\n",
    "y_pred = model.predict(X_pred)\n",
    "list(y_pred)[0]"
   ]
  },
  {
   "cell_type": "code",
   "execution_count": null,
   "id": "df15e571",
   "metadata": {},
   "outputs": [],
   "source": []
  }
 ],
 "metadata": {
  "kernelspec": {
   "display_name": "Python 3 (ipykernel)",
   "language": "python",
   "name": "python3"
  },
  "language_info": {
   "codemirror_mode": {
    "name": "ipython",
    "version": 3
   },
   "file_extension": ".py",
   "mimetype": "text/x-python",
   "name": "python",
   "nbconvert_exporter": "python",
   "pygments_lexer": "ipython3",
   "version": "3.9.13"
  }
 },
 "nbformat": 4,
 "nbformat_minor": 5
}
