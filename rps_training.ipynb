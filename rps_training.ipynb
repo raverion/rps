{
 "cells": [
  {
   "cell_type": "code",
   "execution_count": 1,
   "id": "fd871887",
   "metadata": {},
   "outputs": [],
   "source": [
    "import json\n",
    "import pandas as pd"
   ]
  },
  {
   "cell_type": "code",
   "execution_count": 2,
   "id": "1974cdbb",
   "metadata": {},
   "outputs": [],
   "source": [
    "df = pd.read_json(\"training_data_0.json\")"
   ]
  },
  {
   "cell_type": "code",
   "execution_count": 3,
   "id": "16c44739",
   "metadata": {},
   "outputs": [
    {
     "data": {
      "text/html": [
       "<div>\n",
       "<style scoped>\n",
       "    .dataframe tbody tr th:only-of-type {\n",
       "        vertical-align: middle;\n",
       "    }\n",
       "\n",
       "    .dataframe tbody tr th {\n",
       "        vertical-align: top;\n",
       "    }\n",
       "\n",
       "    .dataframe thead th {\n",
       "        text-align: right;\n",
       "    }\n",
       "</style>\n",
       "<table border=\"1\" class=\"dataframe\">\n",
       "  <thead>\n",
       "    <tr style=\"text-align: right;\">\n",
       "      <th></th>\n",
       "      <th>player1_moves</th>\n",
       "      <th>player2_moves</th>\n",
       "      <th>player2</th>\n",
       "    </tr>\n",
       "  </thead>\n",
       "  <tbody>\n",
       "    <tr>\n",
       "      <th>0</th>\n",
       "      <td>[2, 1, 2, 2, 0, 1, 1, 2, 2, 0]</td>\n",
       "      <td>[0, 1, 1, 2, 0, 0, 1, 1, 2, 0]</td>\n",
       "      <td>0</td>\n",
       "    </tr>\n",
       "    <tr>\n",
       "      <th>1</th>\n",
       "      <td>[1, 1, 2, 2, 0, 1, 1, 2, 2, 0]</td>\n",
       "      <td>[0, 1, 1, 2, 0, 0, 1, 1, 2, 0]</td>\n",
       "      <td>0</td>\n",
       "    </tr>\n",
       "    <tr>\n",
       "      <th>2</th>\n",
       "      <td>[1, 1, 2, 2, 0, 1, 1, 2, 2, 0]</td>\n",
       "      <td>[0, 1, 1, 2, 0, 0, 1, 1, 2, 0]</td>\n",
       "      <td>0</td>\n",
       "    </tr>\n",
       "    <tr>\n",
       "      <th>3</th>\n",
       "      <td>[1, 1, 2, 2, 0, 1, 1, 2, 2, 0]</td>\n",
       "      <td>[0, 1, 1, 2, 0, 0, 1, 1, 2, 0]</td>\n",
       "      <td>0</td>\n",
       "    </tr>\n",
       "    <tr>\n",
       "      <th>4</th>\n",
       "      <td>[1, 1, 2, 2, 0, 1, 1, 2, 2, 0]</td>\n",
       "      <td>[0, 1, 1, 2, 0, 0, 1, 1, 2, 0]</td>\n",
       "      <td>0</td>\n",
       "    </tr>\n",
       "  </tbody>\n",
       "</table>\n",
       "</div>"
      ],
      "text/plain": [
       "                    player1_moves                   player2_moves  player2\n",
       "0  [2, 1, 2, 2, 0, 1, 1, 2, 2, 0]  [0, 1, 1, 2, 0, 0, 1, 1, 2, 0]        0\n",
       "1  [1, 1, 2, 2, 0, 1, 1, 2, 2, 0]  [0, 1, 1, 2, 0, 0, 1, 1, 2, 0]        0\n",
       "2  [1, 1, 2, 2, 0, 1, 1, 2, 2, 0]  [0, 1, 1, 2, 0, 0, 1, 1, 2, 0]        0\n",
       "3  [1, 1, 2, 2, 0, 1, 1, 2, 2, 0]  [0, 1, 1, 2, 0, 0, 1, 1, 2, 0]        0\n",
       "4  [1, 1, 2, 2, 0, 1, 1, 2, 2, 0]  [0, 1, 1, 2, 0, 0, 1, 1, 2, 0]        0"
      ]
     },
     "execution_count": 3,
     "metadata": {},
     "output_type": "execute_result"
    }
   ],
   "source": [
    "df"
   ]
  },
  {
   "cell_type": "code",
   "execution_count": null,
   "id": "f49d1fe6",
   "metadata": {},
   "outputs": [],
   "source": []
  }
 ],
 "metadata": {
  "kernelspec": {
   "display_name": "Python 3 (ipykernel)",
   "language": "python",
   "name": "python3"
  },
  "language_info": {
   "codemirror_mode": {
    "name": "ipython",
    "version": 3
   },
   "file_extension": ".py",
   "mimetype": "text/x-python",
   "name": "python",
   "nbconvert_exporter": "python",
   "pygments_lexer": "ipython3",
   "version": "3.9.13"
  }
 },
 "nbformat": 4,
 "nbformat_minor": 5
}
